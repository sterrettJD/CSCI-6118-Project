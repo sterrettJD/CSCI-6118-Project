{
 "cells": [
  {
   "cell_type": "markdown",
   "id": "edc25c0d",
   "metadata": {},
   "source": [
    "# Alpha Diversity\n",
    "\n",
    "## What is alpha diversity?\n"
   ]
  },
  {
   "cell_type": "markdown",
   "id": "f2da76b5",
   "metadata": {},
   "source": [
    "## Why do we care about alpha diversity?\n",
    "\n"
   ]
  },
  {
   "cell_type": "markdown",
   "id": "9d39df87",
   "metadata": {},
   "source": [
    "## How do we quantify alpha diversity?\n",
    "\n"
   ]
  },
  {
   "cell_type": "markdown",
   "id": "60a5e804",
   "metadata": {},
   "source": [
    "## Richness vs evenness\n"
   ]
  },
  {
   "cell_type": "markdown",
   "id": "68415793",
   "metadata": {},
   "source": [
    "## Interactive example/Homework\n"
   ]
  }
 ],
 "metadata": {
  "kernelspec": {
   "display_name": "Python 3 (ipykernel)",
   "language": "python",
   "name": "python3"
  },
  "language_info": {
   "codemirror_mode": {
    "name": "ipython",
    "version": 3
   },
   "file_extension": ".py",
   "mimetype": "text/x-python",
   "name": "python",
   "nbconvert_exporter": "python",
   "pygments_lexer": "ipython3",
   "version": "3.9.7"
  }
 },
 "nbformat": 4,
 "nbformat_minor": 5
}
