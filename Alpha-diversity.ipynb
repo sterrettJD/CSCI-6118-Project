{
 "cells": [
  {
   "cell_type": "markdown",
   "id": "d35b9b12",
   "metadata": {},
   "source": [
    "# Alpha Diversity\n",
    "\n",
    "## What is alpha diversity?\n"
   ]
  },
  {
   "cell_type": "markdown",
   "id": "f8ae74de",
   "metadata": {},
   "source": [
    "## Why do we care about alpha diversity?\n",
    "\n"
   ]
  },
  {
   "cell_type": "markdown",
   "id": "474f03ef",
   "metadata": {},
   "source": [
    "## How do we quantify alpha diversity?\n",
    "\n"
   ]
  },
  {
   "cell_type": "markdown",
   "id": "aad69597",
   "metadata": {},
   "source": [
    "## Richness vs evenness\n"
   ]
  },
  {
   "cell_type": "markdown",
   "id": "22f6bd66",
   "metadata": {},
   "source": [
    "## Interactive example/Homework\n"
   ]
  },
  {
   "cell_type": "code",
   "execution_count": null,
   "id": "68cfa463",
   "metadata": {},
   "outputs": [],
   "source": []
  }
 ],
 "metadata": {
  "kernelspec": {
   "display_name": "Python 3 (ipykernel)",
   "language": "python",
   "name": "python3"
  },
  "language_info": {
   "codemirror_mode": {
    "name": "ipython",
    "version": 3
   },
   "file_extension": ".py",
   "mimetype": "text/x-python",
   "name": "python",
   "nbconvert_exporter": "python",
   "pygments_lexer": "ipython3",
   "version": "3.9.7"
  }
 },
 "nbformat": 4,
 "nbformat_minor": 5
}
