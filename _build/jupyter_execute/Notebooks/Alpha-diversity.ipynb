{
 "cells": [
  {
   "cell_type": "markdown",
   "id": "edc25c0d",
   "metadata": {},
   "source": [
    "# Alpha Diversity\n",
    "\n",
    "## What is alpha diversity?\n"
   ]
  },
  {
   "cell_type": "code",
   "execution_count": 1,
   "id": "3765ea0c",
   "metadata": {},
   "outputs": [],
   "source": [
    "def add_nums(a, b):\n",
    "    return a+b"
   ]
  },
  {
   "cell_type": "code",
   "execution_count": 2,
   "id": "f4b2c8ac",
   "metadata": {},
   "outputs": [
    {
     "name": "stdout",
     "output_type": "stream",
     "text": [
      "3\n"
     ]
    }
   ],
   "source": [
    "a = 1\n",
    "b = 2\n",
    "print(add_nums(a,b))"
   ]
  },
  {
   "cell_type": "markdown",
   "id": "6a95e55b",
   "metadata": {},
   "source": [
    "# Big headers\n",
    "- list 1\n",
    "- list 2\n",
    "\n",
    "### Medium header\n",
    "\n",
    "$\\alpha$"
   ]
  },
  {
   "cell_type": "markdown",
   "id": "f2da76b5",
   "metadata": {},
   "source": [
    "## Why do we care about alpha diversity?\n",
    "\n"
   ]
  },
  {
   "cell_type": "markdown",
   "id": "9d39df87",
   "metadata": {},
   "source": [
    "## How do we quantify alpha diversity?\n",
    "\n"
   ]
  },
  {
   "cell_type": "markdown",
   "id": "60a5e804",
   "metadata": {},
   "source": [
    "## Richness vs evenness\n"
   ]
  },
  {
   "cell_type": "markdown",
   "id": "68415793",
   "metadata": {},
   "source": [
    "## Interactive example/Homework\n"
   ]
  }
 ],
 "metadata": {
  "kernelspec": {
   "display_name": "Python 3 (ipykernel)",
   "language": "python",
   "name": "python3"
  },
  "language_info": {
   "codemirror_mode": {
    "name": "ipython",
    "version": 3
   },
   "file_extension": ".py",
   "mimetype": "text/x-python",
   "name": "python",
   "nbconvert_exporter": "python",
   "pygments_lexer": "ipython3",
   "version": "3.9.7"
  }
 },
 "nbformat": 4,
 "nbformat_minor": 5
}