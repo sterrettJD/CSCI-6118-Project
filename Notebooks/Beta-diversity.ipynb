{
 "cells": [
  {
   "cell_type": "markdown",
   "id": "6aac19d1",
   "metadata": {},
   "source": [
    "# Beta Diversity\n",
    "\n",
    "## What is beta diversity?\n",
    "\n",
    "- Beta diversity is a distance or dissimilarity between two samples based on their composition"
   ]
  },
  {
   "cell_type": "markdown",
   "id": "766797a5",
   "metadata": {},
   "source": [
    "## Why do we care about beta diversity?\n",
    "\n",
    "Beta diversity gives us ways to quantify how similar or dissimilar two samples are. We can then extrapolate this to comparing microbial communities across metadata variables. For example, are gut microbiome samples generally more similar to other gut microbiome samples or to oral microbiome samples?"
   ]
  },
  {
   "cell_type": "markdown",
   "id": "8a1104eb",
   "metadata": {},
   "source": [
    "## Quantifying beta diversity"
   ]
  },
  {
   "cell_type": "markdown",
   "id": "f38c78a6",
   "metadata": {},
   "source": [
    "### Beta diversity as a pairwise metric\n",
    "\n",
    "Beta diversity is a **pairwise** metric, meaning each value exists for comparing a pair of samples. Each value is the distance (or dissimilarity) between the two samples.\n",
    "\n",
    "For example, we can consider the pairwise distances between cities in the Colorado Front Range:"
   ]
  },
  {
   "cell_type": "code",
   "execution_count": 97,
   "id": "f5aad881",
   "metadata": {},
   "outputs": [],
   "source": [
    "import numpy as np\n",
    "import pandas as pd\n",
    "\n",
    "import matplotlib.pyplot as plt\n",
    "import seaborn as sns"
   ]
  },
  {
   "cell_type": "code",
   "execution_count": 98,
   "id": "700acfc5",
   "metadata": {},
   "outputs": [
    {
     "name": "stdout",
     "output_type": "stream",
     "text": [
      "                  Boulder  Denver  Golden  Fort Collins  Colorado Springs\n",
      "Boulder                 0      24      18            39                85\n",
      "Denver                 24       0      13            56                63\n",
      "Golden                 18      13       0            56                67\n",
      "Fort Collins           39      56      56             0               119\n",
      "Colorado Springs       85      63      67           119                 0\n"
     ]
    }
   ],
   "source": [
    "\n",
    "\n",
    "cities = [\"Boulder\", \"Denver\", \"Golden\", \"Fort Collins\", \"Colorado Springs\"]\n",
    "\n",
    "# distances are given in miles\n",
    "distances = np.array([[0, 24, 18, 39, 85],\n",
    "                      [24, 0, 13, 56, 63],\n",
    "                      [18, 13, 0, 56, 67],\n",
    "                      [39, 56, 56, 0, 119],\n",
    "                      [85, 63, 67, 119, 0]])\n",
    "\n",
    "distances_df = pd.DataFrame(distances,\n",
    "                            columns=cities,\n",
    "                            index=cities)\n",
    "\n",
    "print(distances_df)"
   ]
  },
  {
   "cell_type": "markdown",
   "id": "67046fc6",
   "metadata": {},
   "source": [
    "In this case, because we have pairwise distances, we can't ask \"What's the distance of Boulder?\" Likewise, in a microbiome setting, we can't ask \"What's the beta diversity of sample A?\" Instead, we have to ask the question relative to another city/sample. For example, we can ask \"What's the distance from Boulder to Fort Collins?\" or \"What's the the beta diversity between samples A and B?\""
   ]
  },
  {
   "cell_type": "markdown",
   "id": "5b958c19",
   "metadata": {},
   "source": [
    "### Quantitative vs qualitative beta diversity metrics"
   ]
  },
  {
   "cell_type": "markdown",
   "id": "3733cfa1",
   "metadata": {},
   "source": [
    "Let's imagine we look at 10 people's shopping carts at the grocery store..."
   ]
  },
  {
   "cell_type": "code",
   "execution_count": 99,
   "id": "6ba7812f",
   "metadata": {},
   "outputs": [],
   "source": [
    "from scipy import sparse\n",
    "from scipy.spatial.distance import pdist, squareform"
   ]
  },
  {
   "cell_type": "code",
   "execution_count": 102,
   "id": "3f907fb9",
   "metadata": {},
   "outputs": [
    {
     "data": {
      "text/html": [
       "<div>\n",
       "<style scoped>\n",
       "    .dataframe tbody tr th:only-of-type {\n",
       "        vertical-align: middle;\n",
       "    }\n",
       "\n",
       "    .dataframe tbody tr th {\n",
       "        vertical-align: top;\n",
       "    }\n",
       "\n",
       "    .dataframe thead th {\n",
       "        text-align: right;\n",
       "    }\n",
       "</style>\n",
       "<table border=\"1\" class=\"dataframe\">\n",
       "  <thead>\n",
       "    <tr style=\"text-align: right;\">\n",
       "      <th></th>\n",
       "      <th>apples</th>\n",
       "      <th>bananas</th>\n",
       "      <th>broccoli</th>\n",
       "      <th>spinach</th>\n",
       "      <th>chicken</th>\n",
       "      <th>beef</th>\n",
       "      <th>milk</th>\n",
       "      <th>orange juice</th>\n",
       "      <th>apple juice</th>\n",
       "      <th>cookies</th>\n",
       "    </tr>\n",
       "  </thead>\n",
       "  <tbody>\n",
       "    <tr>\n",
       "      <th>Person 1</th>\n",
       "      <td>1</td>\n",
       "      <td>4</td>\n",
       "      <td>0</td>\n",
       "      <td>7</td>\n",
       "      <td>2</td>\n",
       "      <td>0</td>\n",
       "      <td>0</td>\n",
       "      <td>8</td>\n",
       "      <td>9</td>\n",
       "      <td>3</td>\n",
       "    </tr>\n",
       "    <tr>\n",
       "      <th>Person 2</th>\n",
       "      <td>0</td>\n",
       "      <td>7</td>\n",
       "      <td>0</td>\n",
       "      <td>7</td>\n",
       "      <td>0</td>\n",
       "      <td>0</td>\n",
       "      <td>0</td>\n",
       "      <td>0</td>\n",
       "      <td>3</td>\n",
       "      <td>0</td>\n",
       "    </tr>\n",
       "    <tr>\n",
       "      <th>Person 3</th>\n",
       "      <td>0</td>\n",
       "      <td>8</td>\n",
       "      <td>9</td>\n",
       "      <td>0</td>\n",
       "      <td>7</td>\n",
       "      <td>0</td>\n",
       "      <td>4</td>\n",
       "      <td>6</td>\n",
       "      <td>0</td>\n",
       "      <td>0</td>\n",
       "    </tr>\n",
       "    <tr>\n",
       "      <th>Person 4</th>\n",
       "      <td>0</td>\n",
       "      <td>9</td>\n",
       "      <td>0</td>\n",
       "      <td>6</td>\n",
       "      <td>0</td>\n",
       "      <td>7</td>\n",
       "      <td>0</td>\n",
       "      <td>7</td>\n",
       "      <td>2</td>\n",
       "      <td>2</td>\n",
       "    </tr>\n",
       "    <tr>\n",
       "      <th>Person 5</th>\n",
       "      <td>6</td>\n",
       "      <td>0</td>\n",
       "      <td>0</td>\n",
       "      <td>1</td>\n",
       "      <td>9</td>\n",
       "      <td>0</td>\n",
       "      <td>0</td>\n",
       "      <td>0</td>\n",
       "      <td>0</td>\n",
       "      <td>0</td>\n",
       "    </tr>\n",
       "    <tr>\n",
       "      <th>Person 6</th>\n",
       "      <td>9</td>\n",
       "      <td>4</td>\n",
       "      <td>1</td>\n",
       "      <td>9</td>\n",
       "      <td>6</td>\n",
       "      <td>2</td>\n",
       "      <td>7</td>\n",
       "      <td>0</td>\n",
       "      <td>6</td>\n",
       "      <td>2</td>\n",
       "    </tr>\n",
       "    <tr>\n",
       "      <th>Person 7</th>\n",
       "      <td>0</td>\n",
       "      <td>6</td>\n",
       "      <td>0</td>\n",
       "      <td>0</td>\n",
       "      <td>0</td>\n",
       "      <td>0</td>\n",
       "      <td>6</td>\n",
       "      <td>4</td>\n",
       "      <td>0</td>\n",
       "      <td>9</td>\n",
       "    </tr>\n",
       "    <tr>\n",
       "      <th>Person 8</th>\n",
       "      <td>5</td>\n",
       "      <td>0</td>\n",
       "      <td>4</td>\n",
       "      <td>0</td>\n",
       "      <td>1</td>\n",
       "      <td>0</td>\n",
       "      <td>0</td>\n",
       "      <td>10</td>\n",
       "      <td>0</td>\n",
       "      <td>0</td>\n",
       "    </tr>\n",
       "    <tr>\n",
       "      <th>Person 9</th>\n",
       "      <td>0</td>\n",
       "      <td>4</td>\n",
       "      <td>5</td>\n",
       "      <td>0</td>\n",
       "      <td>0</td>\n",
       "      <td>0</td>\n",
       "      <td>0</td>\n",
       "      <td>0</td>\n",
       "      <td>3</td>\n",
       "      <td>0</td>\n",
       "    </tr>\n",
       "    <tr>\n",
       "      <th>Person 10</th>\n",
       "      <td>5</td>\n",
       "      <td>9</td>\n",
       "      <td>0</td>\n",
       "      <td>7</td>\n",
       "      <td>3</td>\n",
       "      <td>0</td>\n",
       "      <td>1</td>\n",
       "      <td>0</td>\n",
       "      <td>0</td>\n",
       "      <td>0</td>\n",
       "    </tr>\n",
       "  </tbody>\n",
       "</table>\n",
       "</div>"
      ],
      "text/plain": [
       "           apples  bananas  broccoli  spinach  chicken  beef  milk  \\\n",
       "Person 1        1        4         0        7        2     0     0   \n",
       "Person 2        0        7         0        7        0     0     0   \n",
       "Person 3        0        8         9        0        7     0     4   \n",
       "Person 4        0        9         0        6        0     7     0   \n",
       "Person 5        6        0         0        1        9     0     0   \n",
       "Person 6        9        4         1        9        6     2     7   \n",
       "Person 7        0        6         0        0        0     0     6   \n",
       "Person 8        5        0         4        0        1     0     0   \n",
       "Person 9        0        4         5        0        0     0     0   \n",
       "Person 10       5        9         0        7        3     0     1   \n",
       "\n",
       "           orange juice  apple juice  cookies  \n",
       "Person 1              8            9        3  \n",
       "Person 2              0            3        0  \n",
       "Person 3              6            0        0  \n",
       "Person 4              7            2        2  \n",
       "Person 5              0            0        0  \n",
       "Person 6              0            6        2  \n",
       "Person 7              4            0        9  \n",
       "Person 8             10            0        0  \n",
       "Person 9              0            3        0  \n",
       "Person 10             0            0        0  "
      ]
     },
     "execution_count": 102,
     "metadata": {},
     "output_type": "execute_result"
    }
   ],
   "source": [
    "foods = [\"apples\",\n",
    "         \"bananas\",\n",
    "         \"broccoli\",\n",
    "         \"spinach\",\n",
    "         \"chicken\",\n",
    "         \"beef\",\n",
    "         \"milk\",\n",
    "         \"orange juice\",\n",
    "         \"apple juice\",\n",
    "         \"cookies\"\n",
    "]\n",
    "\n",
    "people = [f\"Person {x}\" for x in np.arange(1,11)]\n",
    "\n",
    "# make some data\n",
    "data = sparse.random(10,10, density=0.5, random_state=42)\n",
    "# turn that data to integers from 1 to 10\n",
    "data = round((data*10))\n",
    "\n",
    "# make a dataframe where rows are people\n",
    "# and columns are foods\n",
    "data = pd.DataFrame(data.A,\n",
    "                    columns=foods,\n",
    "                    index=people)\n",
    "\n",
    "#convert to integers\n",
    "data = data.astype(int)\n",
    "\n",
    "data"
   ]
  },
  {
   "cell_type": "code",
   "execution_count": 107,
   "id": "bf12d46d",
   "metadata": {},
   "outputs": [],
   "source": [
    "def show_dist_mat(data, ids, metric):\n",
    "    dist = squareform(pdist(data, metric))\n",
    "    dist = pd.DataFrame(dist,\n",
    "                        columns=people,\n",
    "                        index=people)\n",
    "    \n",
    "    ax = sns.heatmap(dist)\n",
    "    ax.set_title(f\"{metric} distance\")\n",
    "    plt.show()"
   ]
  },
  {
   "cell_type": "code",
   "execution_count": 108,
   "id": "7d15da45",
   "metadata": {},
   "outputs": [
    {
     "data": {
      "image/png": "[encoded data removed]",
      "text/plain": [
       "<Figure size 432x288 with 2 Axes>"
      ]
     },
     "metadata": {
      "needs_background": "light"
     },
     "output_type": "display_data"
    },
    {
     "data": {
      "image/png": "[encoded data removed]",
      "text/plain": [
       "<Figure size 432x288 with 2 Axes>"
      ]
     },
     "metadata": {
      "needs_background": "light"
     },
     "output_type": "display_data"
    }
   ],
   "source": [
    "for metric in [\"jaccard\", \"braycurtis\"]:\n",
    "    show_dist_mat(data, people, metric=metric)"
   ]
  },
  {
   "cell_type": "code",
   "execution_count": 103,
   "id": "869862ec",
   "metadata": {},
   "outputs": [
    {
     "data": {
      "image/png": "[encoded data removed]",
      "text/plain": [
       "<Figure size 432x288 with 2 Axes>"
      ]
     },
     "metadata": {
      "needs_background": "light"
     },
     "output_type": "display_data"
    },
    {
     "data": {
      "image/png": "[encoded data removed]",
      "text/plain": [
       "<Figure size 432x288 with 2 Axes>"
      ]
     },
     "metadata": {
      "needs_background": "light"
     },
     "output_type": "display_data"
    }
   ],
   "source": [
    "euclidean_dist = squareform(pdist(data))\n",
    "euclidean_dist = pd.DataFrame(euclidean_dist,\n",
    "                              columns=people,\n",
    "                              index=people)\n",
    "sns.heatmap(euclidean_dist)\n",
    "plt.show()\n",
    "\n",
    "jaccard_dist = squareform(pdist(data, metric=\"jaccard\"))\n",
    "jaccard_dist = pd.DataFrame(jaccard_dist,\n",
    "                              columns=people,\n",
    "                              index=people)\n",
    "sns.heatmap(jaccard_dist)\n",
    "plt.show()"
   ]
  },
  {
   "cell_type": "markdown",
   "id": "e903aa68",
   "metadata": {},
   "source": [
    "### UniFrac"
   ]
  },
  {
   "cell_type": "markdown",
   "id": "d317c9f1",
   "metadata": {},
   "source": [
    "## Using beta diversity"
   ]
  },
  {
   "cell_type": "code",
   "execution_count": 94,
   "id": "220cb63a",
   "metadata": {},
   "outputs": [
    {
     "data": {
      "text/plain": [
       "<AxesSubplot:>"
      ]
     },
     "execution_count": 94,
     "metadata": {},
     "output_type": "execute_result"
    },
    {
     "data": {
      "image/png": "[encoded data removed]",
      "text/plain": [
       "<Figure size 432x288 with 2 Axes>"
      ]
     },
     "metadata": {
      "needs_background": "light"
     },
     "output_type": "display_data"
    }
   ],
   "source": [
    "import seaborn as sns\n",
    "\n",
    "sns.heatmap(distances_df)"
   ]
  },
  {
   "cell_type": "markdown",
   "id": "69c0f7dd",
   "metadata": {},
   "source": [
    "## Real world example"
   ]
  },
  {
   "cell_type": "markdown",
   "id": "9712841d",
   "metadata": {},
   "source": [
    "## Interactive example/homework"
   ]
  },
  {
   "cell_type": "code",
   "execution_count": null,
   "id": "f827c52d",
   "metadata": {},
   "outputs": [],
   "source": []
  }
 ],
 "metadata": {
  "kernelspec": {
   "display_name": "Python 3 (ipykernel)",
   "language": "python",
   "name": "python3"
  },
  "language_info": {
   "codemirror_mode": {
    "name": "ipython",
    "version": 3
   },
   "file_extension": ".py",
   "mimetype": "text/x-python",
   "name": "python",
   "nbconvert_exporter": "python",
   "pygments_lexer": "ipython3",
   "version": "3.9.7"
  }
 },
 "nbformat": 4,
 "nbformat_minor": 5
}
