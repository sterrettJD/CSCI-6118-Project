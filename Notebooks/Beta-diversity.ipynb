{
 "cells": [
  {
   "cell_type": "markdown",
   "id": "6aac19d1",
   "metadata": {},
   "source": [
    "# Beta Diversity\n",
    "\n",
    "## What is beta diversity?\n",
    "\n",
    "- Beta diversity is a distance or dissimilarity between two samples based on their composition"
   ]
  },
  {
   "cell_type": "markdown",
   "id": "766797a5",
   "metadata": {},
   "source": [
    "## Why do we care about beta diversity?\n",
    "\n",
    "Beta diversity gives us ways to quantify how similar or dissimilar two samples are. We can then extrapolate this to comparing microbial communities across metadata variables. For example, are gut microbiome samples generally more similar to other gut microbiome samples or to oral microbiome samples?"
   ]
  },
  {
   "cell_type": "markdown",
   "id": "8a1104eb",
   "metadata": {},
   "source": [
    "## Quantifying beta diversity"
   ]
  },
  {
   "cell_type": "markdown",
   "id": "f38c78a6",
   "metadata": {},
   "source": [
    "### Beta diversity as a pairwise metric\n",
    "\n",
    "Beta diversity is a **pairwise** metric, meaning each value exists for comparing a pair of samples. Each value is the distance (or dissimilarity) between the two samples.\n",
    "\n",
    "For example, we can consider the pairwise distances between cities in the Colorado Front Range:"
   ]
  },
  {
   "cell_type": "code",
   "execution_count": 97,
   "id": "ff3986c2",
   "metadata": {},
   "outputs": [],
   "source": [
    "import numpy as np\n",
    "import pandas as pd\n",
    "\n",
    "import matplotlib.pyplot as plt\n",
    "import seaborn as sns"
   ]
  },
  {
   "cell_type": "code",
   "execution_count": 163,
   "id": "700acfc5",
   "metadata": {},
   "outputs": [
    {
     "data": {
      "text/html": [
       "<div>\n",
       "<style scoped>\n",
       "    .dataframe tbody tr th:only-of-type {\n",
       "        vertical-align: middle;\n",
       "    }\n",
       "\n",
       "    .dataframe tbody tr th {\n",
       "        vertical-align: top;\n",
       "    }\n",
       "\n",
       "    .dataframe thead th {\n",
       "        text-align: right;\n",
       "    }\n",
       "</style>\n",
       "<table border=\"1\" class=\"dataframe\">\n",
       "  <thead>\n",
       "    <tr style=\"text-align: right;\">\n",
       "      <th></th>\n",
       "      <th>Boulder</th>\n",
       "      <th>Denver</th>\n",
       "      <th>Golden</th>\n",
       "      <th>Fort Collins</th>\n",
       "      <th>Colorado Springs</th>\n",
       "    </tr>\n",
       "  </thead>\n",
       "  <tbody>\n",
       "    <tr>\n",
       "      <th>Boulder</th>\n",
       "      <td>0</td>\n",
       "      <td>24</td>\n",
       "      <td>18</td>\n",
       "      <td>39</td>\n",
       "      <td>85</td>\n",
       "    </tr>\n",
       "    <tr>\n",
       "      <th>Denver</th>\n",
       "      <td>24</td>\n",
       "      <td>0</td>\n",
       "      <td>13</td>\n",
       "      <td>56</td>\n",
       "      <td>63</td>\n",
       "    </tr>\n",
       "    <tr>\n",
       "      <th>Golden</th>\n",
       "      <td>18</td>\n",
       "      <td>13</td>\n",
       "      <td>0</td>\n",
       "      <td>56</td>\n",
       "      <td>67</td>\n",
       "    </tr>\n",
       "    <tr>\n",
       "      <th>Fort Collins</th>\n",
       "      <td>39</td>\n",
       "      <td>56</td>\n",
       "      <td>56</td>\n",
       "      <td>0</td>\n",
       "      <td>119</td>\n",
       "    </tr>\n",
       "    <tr>\n",
       "      <th>Colorado Springs</th>\n",
       "      <td>85</td>\n",
       "      <td>63</td>\n",
       "      <td>67</td>\n",
       "      <td>119</td>\n",
       "      <td>0</td>\n",
       "    </tr>\n",
       "  </tbody>\n",
       "</table>\n",
       "</div>"
      ],
      "text/plain": [
       "                  Boulder  Denver  Golden  Fort Collins  Colorado Springs\n",
       "Boulder                 0      24      18            39                85\n",
       "Denver                 24       0      13            56                63\n",
       "Golden                 18      13       0            56                67\n",
       "Fort Collins           39      56      56             0               119\n",
       "Colorado Springs       85      63      67           119                 0"
      ]
     },
     "execution_count": 163,
     "metadata": {},
     "output_type": "execute_result"
    }
   ],
   "source": [
    "\n",
    "\n",
    "cities = [\"Boulder\", \"Denver\", \"Golden\", \"Fort Collins\", \"Colorado Springs\"]\n",
    "\n",
    "# distances are given in miles\n",
    "distances = np.array([[0, 24, 18, 39, 85],\n",
    "                      [24, 0, 13, 56, 63],\n",
    "                      [18, 13, 0, 56, 67],\n",
    "                      [39, 56, 56, 0, 119],\n",
    "                      [85, 63, 67, 119, 0]])\n",
    "\n",
    "distances_df = pd.DataFrame(distances,\n",
    "                            columns=cities,\n",
    "                            index=cities)\n",
    "\n",
    "distances_df"
   ]
  },
  {
   "cell_type": "markdown",
   "id": "67046fc6",
   "metadata": {},
   "source": [
    "In this case, because we have pairwise distances, we can't ask \"What's the distance of Boulder?\" Likewise, in a microbiome setting, we can't ask \"What's the beta diversity of sample A?\" Instead, we have to ask the question relative to another city/sample. For example, we can ask \"What's the distance from Boulder to Fort Collins?\" or \"What's the the beta diversity between samples A and B?\""
   ]
  },
  {
   "cell_type": "markdown",
   "id": "5b958c19",
   "metadata": {},
   "source": [
    "### Quantitative vs qualitative beta diversity metrics"
   ]
  },
  {
   "cell_type": "markdown",
   "id": "7b1c49c0",
   "metadata": {},
   "source": [
    "Some beta diversity metrics look at what taxa are present, but others look at how much of each taxon is there. These are referred to as qualitative and quantitative metrics, respectively. Two common examples are Jaccard distance and Bray-Curtis distance.\n",
    "\n",
    "**Jaccard distance** is typically used on presence-absence data, and it is the portion of detected taxa that are shared between samples. The equation to calculate Jaccard distance can be seen below, where $J(A,B)$ is the number of taxa shared between the two samples divided by the total number of unique taxa in the two samples.\n",
    "$$J(A,B) = 1 - \\frac{A \\cap B}{A \\cup B}$$\n",
    "\n",
    "- Note: if all taxa are shared between the two samples, Jaccard distance will be 0, regardless of the number of taxa. This is why Jaccard is considered a qualitative metric.\n",
    "\n",
    "**Bray-Curtis distance**, however takes taxa abundances into account. The equation to calculate Bray-Curtis distance can be seen below, where the Bray-Curtis distance between samples A and B is the sum of difference between taxon $i$ in samples A and B divided by the total abundance of taxon $i$ across both samples for all taxa present in the two samples.\n",
    "\n",
    "$$BC(A,B) = \\sum_{i=1}^n \\frac{|x_{A,i}-x_{B,i}|}{|x_{A,i}|+|x_{B,i}|}$$\n",
    "\n",
    "- Q: What happens when there is no difference between the abundances of any taxa in samples A and B?\n",
    "  - A: The numerator of all terms is 0, meaning that the Bray-Curtis distance is 0!\n",
    "- Note: Even if all taxa are shared, if they have different abundances, Bray-Curtis distance will not be zero! This is why it can be considered a quantitative metric."
   ]
  },
  {
   "cell_type": "markdown",
   "id": "fd940023",
   "metadata": {},
   "source": [
    "### A simple example"
   ]
  },
  {
   "cell_type": "markdown",
   "id": "8a8b8a23",
   "metadata": {},
   "source": [
    "Let's consider an example where we've collected data on how many cats, fish, and bird that Will, Micaela, and Quinn have as pets."
   ]
  },
  {
   "cell_type": "code",
   "execution_count": 137,
   "id": "23bd6e86",
   "metadata": {},
   "outputs": [],
   "source": [
    "from scipy import sparse\n",
    "from scipy.spatial.distance import pdist, squareform"
   ]
  },
  {
   "cell_type": "code",
   "execution_count": 156,
   "id": "ddb14ed9",
   "metadata": {},
   "outputs": [
    {
     "data": {
      "text/html": [
       "<div>\n",
       "<style scoped>\n",
       "    .dataframe tbody tr th:only-of-type {\n",
       "        vertical-align: middle;\n",
       "    }\n",
       "\n",
       "    .dataframe tbody tr th {\n",
       "        vertical-align: top;\n",
       "    }\n",
       "\n",
       "    .dataframe thead th {\n",
       "        text-align: right;\n",
       "    }\n",
       "</style>\n",
       "<table border=\"1\" class=\"dataframe\">\n",
       "  <thead>\n",
       "    <tr style=\"text-align: right;\">\n",
       "      <th></th>\n",
       "      <th>cats</th>\n",
       "      <th>fish</th>\n",
       "      <th>birds</th>\n",
       "    </tr>\n",
       "  </thead>\n",
       "  <tbody>\n",
       "    <tr>\n",
       "      <th>Will</th>\n",
       "      <td>1</td>\n",
       "      <td>0</td>\n",
       "      <td>3</td>\n",
       "    </tr>\n",
       "    <tr>\n",
       "      <th>Micaela</th>\n",
       "      <td>9</td>\n",
       "      <td>0</td>\n",
       "      <td>3</td>\n",
       "    </tr>\n",
       "    <tr>\n",
       "      <th>Quinn</th>\n",
       "      <td>0</td>\n",
       "      <td>2</td>\n",
       "      <td>0</td>\n",
       "    </tr>\n",
       "  </tbody>\n",
       "</table>\n",
       "</div>"
      ],
      "text/plain": [
       "         cats  fish  birds\n",
       "Will        1     0      3\n",
       "Micaela     9     0      3\n",
       "Quinn       0     2      0"
      ]
     },
     "execution_count": 156,
     "metadata": {},
     "output_type": "execute_result"
    }
   ],
   "source": [
    "a = [1, 0, 3]\n",
    "b = [9, 0, 3]\n",
    "c = [0, 2, 0]\n",
    "\n",
    "pet_types = [\"cats\", \"fish\", \"birds\"]\n",
    "names = [\"Will\", \"Micaela\", \"Quinn\"]\n",
    "\n",
    "pets = pd.DataFrame([a,b,c],\n",
    "                     columns=pet_types,\n",
    "                     index=names)\n",
    "pets"
   ]
  },
  {
   "cell_type": "markdown",
   "id": "7391fe88",
   "metadata": {},
   "source": [
    "**Stop here to answer these questions!**\n",
    "- Q: From looking at the data, what would you expect the Jaccard distance between Will and Micaela to be? \n",
    "- What about the Jaccard distance from Will to Quinn? \n",
    "- Will Jaccard(Will, Micaela) = BC(Will, Micaela) ?\n",
    "\n",
    "Let's investigate:"
   ]
  },
  {
   "cell_type": "code",
   "execution_count": 164,
   "id": "74fdba8f",
   "metadata": {},
   "outputs": [],
   "source": [
    "def create_and_show_dist_mat(data, ids, metric, annot=False):\n",
    "    \"\"\"\n",
    "    This function makes a distance matrix and shows a heatmap of it.\n",
    "    \n",
    "Parameters\n",
    "    ----------\n",
    "    data : pd.DataFrame or NumPy array/matrix\n",
    "        The data to calculate the distance matrix from.\n",
    "    ids : list\n",
    "        The list of sample IDs\n",
    "    metric: str\n",
    "        The distance metric to be used when creating the distance matrix.\n",
    "        See https://docs.scipy.org/doc/scipy/reference/generated/scipy.spatial.distance.pdist.html\n",
    "        for list of compatible metrics\n",
    "    annot: Bool\n",
    "        Provide True if the distances should be written in the heatmap.\n",
    "        \n",
    "    Returns\n",
    "    -------\n",
    "    dist: pd.DataFrame\n",
    "        The generated distance matrix\n",
    "    \"\"\"\n",
    "    dist = squareform(pdist(data, metric))\n",
    "    dist = pd.DataFrame(dist,\n",
    "                        columns=ids,\n",
    "                        index=ids)\n",
    "    \n",
    "    ax = sns.heatmap(dist, linewidths=1, annot=annot)\n",
    "    ax.set_title(f\"{metric} distance\")\n",
    "    plt.show()\n",
    "    return dist"
   ]
  },
  {
   "cell_type": "code",
   "execution_count": 166,
   "id": "80e180f7",
   "metadata": {},
   "outputs": [
    {
     "data": {
      "image/png": "[encoded data removed]",
      "text/plain": [
       "<Figure size 432x288 with 2 Axes>"
      ]
     },
     "metadata": {
      "needs_background": "light"
     },
     "output_type": "display_data"
    },
    {
     "data": {
      "image/png": "[encoded data removed]",
      "text/plain": [
       "<Figure size 432x288 with 2 Axes>"
      ]
     },
     "metadata": {
      "needs_background": "light"
     },
     "output_type": "display_data"
    }
   ],
   "source": [
    "presence_absence_pets = pets.apply(lambda x: x > 0)\n",
    "jaccard = create_and_show_dist_mat(presence_absence_pets, names, \n",
    "                                   metric=\"jaccard\", annot=True)\n",
    "\n",
    "bray_curt = create_and_show_dist_mat(pets, names, \n",
    "                                     metric=\"braycurtis\", annot=True)"
   ]
  },
  {
   "cell_type": "markdown",
   "id": "ff1b81d3",
   "metadata": {},
   "source": [
    "**Answers:**\n",
    "\n",
    "- Jaccard distance from Will to Micaela is 0, since they share the same types of pets\n",
    "- Jaccard distance from Will to Quinn is 1, since they share none of the same types of pets\n",
    "- Jaccard(Will,Micaela) is not equal to BC(Will,Micaela)! This is because Jaccard only cares that they both have cats and birds, but Bray-Curtis is taking into account the fact that Micaela has 9 cats while Will only has 1."
   ]
  },
  {
   "cell_type": "markdown",
   "id": "b9901a18",
   "metadata": {},
   "source": [
    "### A more complex example"
   ]
  },
  {
   "cell_type": "markdown",
   "id": "d0895e7b",
   "metadata": {},
   "source": [
    "For a more complex example, let's imagine we look for common ingredients in 10 people's shopping carts at the grocery store..."
   ]
  },
  {
   "cell_type": "code",
   "execution_count": 159,
   "id": "f81dbe1a",
   "metadata": {},
   "outputs": [
    {
     "data": {
      "text/html": [
       "<div>\n",
       "<style scoped>\n",
       "    .dataframe tbody tr th:only-of-type {\n",
       "        vertical-align: middle;\n",
       "    }\n",
       "\n",
       "    .dataframe tbody tr th {\n",
       "        vertical-align: top;\n",
       "    }\n",
       "\n",
       "    .dataframe thead th {\n",
       "        text-align: right;\n",
       "    }\n",
       "</style>\n",
       "<table border=\"1\" class=\"dataframe\">\n",
       "  <thead>\n",
       "    <tr style=\"text-align: right;\">\n",
       "      <th></th>\n",
       "      <th>apples</th>\n",
       "      <th>bananas</th>\n",
       "      <th>broccoli</th>\n",
       "      <th>spinach</th>\n",
       "      <th>chicken</th>\n",
       "      <th>beef</th>\n",
       "      <th>milk</th>\n",
       "      <th>orange juice</th>\n",
       "      <th>apple juice</th>\n",
       "      <th>cookies</th>\n",
       "    </tr>\n",
       "  </thead>\n",
       "  <tbody>\n",
       "    <tr>\n",
       "      <th>Person 1</th>\n",
       "      <td>1</td>\n",
       "      <td>4</td>\n",
       "      <td>0</td>\n",
       "      <td>7</td>\n",
       "      <td>2</td>\n",
       "      <td>0</td>\n",
       "      <td>0</td>\n",
       "      <td>8</td>\n",
       "      <td>9</td>\n",
       "      <td>3</td>\n",
       "    </tr>\n",
       "    <tr>\n",
       "      <th>Person 2</th>\n",
       "      <td>0</td>\n",
       "      <td>7</td>\n",
       "      <td>0</td>\n",
       "      <td>7</td>\n",
       "      <td>0</td>\n",
       "      <td>0</td>\n",
       "      <td>0</td>\n",
       "      <td>0</td>\n",
       "      <td>3</td>\n",
       "      <td>0</td>\n",
       "    </tr>\n",
       "    <tr>\n",
       "      <th>Person 3</th>\n",
       "      <td>0</td>\n",
       "      <td>8</td>\n",
       "      <td>9</td>\n",
       "      <td>0</td>\n",
       "      <td>7</td>\n",
       "      <td>0</td>\n",
       "      <td>4</td>\n",
       "      <td>6</td>\n",
       "      <td>0</td>\n",
       "      <td>0</td>\n",
       "    </tr>\n",
       "    <tr>\n",
       "      <th>Person 4</th>\n",
       "      <td>0</td>\n",
       "      <td>9</td>\n",
       "      <td>0</td>\n",
       "      <td>6</td>\n",
       "      <td>0</td>\n",
       "      <td>7</td>\n",
       "      <td>0</td>\n",
       "      <td>7</td>\n",
       "      <td>2</td>\n",
       "      <td>2</td>\n",
       "    </tr>\n",
       "    <tr>\n",
       "      <th>Person 5</th>\n",
       "      <td>6</td>\n",
       "      <td>0</td>\n",
       "      <td>0</td>\n",
       "      <td>1</td>\n",
       "      <td>9</td>\n",
       "      <td>0</td>\n",
       "      <td>0</td>\n",
       "      <td>0</td>\n",
       "      <td>0</td>\n",
       "      <td>0</td>\n",
       "    </tr>\n",
       "    <tr>\n",
       "      <th>Person 6</th>\n",
       "      <td>9</td>\n",
       "      <td>4</td>\n",
       "      <td>1</td>\n",
       "      <td>9</td>\n",
       "      <td>6</td>\n",
       "      <td>2</td>\n",
       "      <td>7</td>\n",
       "      <td>0</td>\n",
       "      <td>6</td>\n",
       "      <td>2</td>\n",
       "    </tr>\n",
       "    <tr>\n",
       "      <th>Person 7</th>\n",
       "      <td>0</td>\n",
       "      <td>6</td>\n",
       "      <td>0</td>\n",
       "      <td>0</td>\n",
       "      <td>0</td>\n",
       "      <td>0</td>\n",
       "      <td>6</td>\n",
       "      <td>4</td>\n",
       "      <td>0</td>\n",
       "      <td>9</td>\n",
       "    </tr>\n",
       "    <tr>\n",
       "      <th>Person 8</th>\n",
       "      <td>5</td>\n",
       "      <td>0</td>\n",
       "      <td>4</td>\n",
       "      <td>0</td>\n",
       "      <td>1</td>\n",
       "      <td>0</td>\n",
       "      <td>0</td>\n",
       "      <td>10</td>\n",
       "      <td>0</td>\n",
       "      <td>0</td>\n",
       "    </tr>\n",
       "    <tr>\n",
       "      <th>Person 9</th>\n",
       "      <td>0</td>\n",
       "      <td>4</td>\n",
       "      <td>5</td>\n",
       "      <td>0</td>\n",
       "      <td>0</td>\n",
       "      <td>0</td>\n",
       "      <td>0</td>\n",
       "      <td>0</td>\n",
       "      <td>3</td>\n",
       "      <td>0</td>\n",
       "    </tr>\n",
       "    <tr>\n",
       "      <th>Person 10</th>\n",
       "      <td>5</td>\n",
       "      <td>9</td>\n",
       "      <td>0</td>\n",
       "      <td>7</td>\n",
       "      <td>3</td>\n",
       "      <td>0</td>\n",
       "      <td>1</td>\n",
       "      <td>0</td>\n",
       "      <td>0</td>\n",
       "      <td>0</td>\n",
       "    </tr>\n",
       "  </tbody>\n",
       "</table>\n",
       "</div>"
      ],
      "text/plain": [
       "           apples  bananas  broccoli  spinach  chicken  beef  milk  \\\n",
       "Person 1        1        4         0        7        2     0     0   \n",
       "Person 2        0        7         0        7        0     0     0   \n",
       "Person 3        0        8         9        0        7     0     4   \n",
       "Person 4        0        9         0        6        0     7     0   \n",
       "Person 5        6        0         0        1        9     0     0   \n",
       "Person 6        9        4         1        9        6     2     7   \n",
       "Person 7        0        6         0        0        0     0     6   \n",
       "Person 8        5        0         4        0        1     0     0   \n",
       "Person 9        0        4         5        0        0     0     0   \n",
       "Person 10       5        9         0        7        3     0     1   \n",
       "\n",
       "           orange juice  apple juice  cookies  \n",
       "Person 1              8            9        3  \n",
       "Person 2              0            3        0  \n",
       "Person 3              6            0        0  \n",
       "Person 4              7            2        2  \n",
       "Person 5              0            0        0  \n",
       "Person 6              0            6        2  \n",
       "Person 7              4            0        9  \n",
       "Person 8             10            0        0  \n",
       "Person 9              0            3        0  \n",
       "Person 10             0            0        0  "
      ]
     },
     "execution_count": 159,
     "metadata": {},
     "output_type": "execute_result"
    }
   ],
   "source": [
    "foods = [\"apples\", \"bananas\",\n",
    "         \"broccoli\",\"spinach\",\n",
    "         \"chicken\", \"beef\",\n",
    "         \"milk\", \"orange juice\",\"apple juice\",\n",
    "         \"cookies\"\n",
    "]\n",
    "\n",
    "people = [f\"Person {x}\" for x in np.arange(1,11)]\n",
    "\n",
    "# make some sparse data\n",
    "data = sparse.random(10,10, density=0.5, random_state=42)\n",
    "# turn that data to integers from 1 to 10\n",
    "data = round((data*10))\n",
    "\n",
    "# make a dataframe where rows are people\n",
    "# and columns are foods\n",
    "data = pd.DataFrame(data.A,\n",
    "                    columns=foods,\n",
    "                    index=people)\n",
    "\n",
    "#convert to integers\n",
    "data = data.astype(int)\n",
    "\n",
    "data"
   ]
  },
  {
   "cell_type": "code",
   "execution_count": 160,
   "id": "9b910d0d",
   "metadata": {},
   "outputs": [
    {
     "data": {
      "image/png": "[encoded data removed]",
      "text/plain": [
       "<Figure size 432x288 with 2 Axes>"
      ]
     },
     "metadata": {
      "needs_background": "light"
     },
     "output_type": "display_data"
    },
    {
     "data": {
      "image/png": "[encoded data removed]",
      "text/plain": [
       "<Figure size 432x288 with 2 Axes>"
      ]
     },
     "metadata": {
      "needs_background": "light"
     },
     "output_type": "display_data"
    }
   ],
   "source": [
    "presence_absence_data = data.apply(lambda x: x > 0)\n",
    "jaccard = create_and_show_dist_mat(presence_absence_data, people, metric=\"jaccard\")\n",
    "\n",
    "bray_curt = create_and_show_dist_mat(data, people, metric=\"braycurtis\")"
   ]
  },
  {
   "cell_type": "markdown",
   "id": "d054925e",
   "metadata": {},
   "source": [
    "These look pretty similar, but they aren't exactly the same. For example, look at the color for the distance between individuals 1 and 5."
   ]
  },
  {
   "cell_type": "markdown",
   "id": "83c052ad",
   "metadata": {},
   "source": [
    "How could we quantify how well these different distance matrices match each other? One way would be to look at the correlation between the values across the matrices. This is called a mantel test! We can perform a mantel test using Pearson or Spearman (non-parametric) correlations. \n",
    "\n",
    "Often, researchers use a mantel test to see how well beta diversity correlates with some metadata variable. This tells us how well microbiome composition correlates with that variable. \n",
    "\n",
    "Note: There are popular implementations of the mantel test in both Python (via scikit-bio) and R (via the vegan package). The mantel test "
   ]
  },
  {
   "cell_type": "code",
   "execution_count": 121,
   "id": "860dd4cf",
   "metadata": {},
   "outputs": [],
   "source": [
    "from skbio.stats.distance import mantel"
   ]
  },
  {
   "cell_type": "code",
   "execution_count": 129,
   "id": "b62c5fba",
   "metadata": {},
   "outputs": [
    {
     "name": "stdout",
     "output_type": "stream",
     "text": [
      "Correlation coefficient = 0.7817190130125696, \n",
      "p = 0.001\n"
     ]
    }
   ],
   "source": [
    "corr, p, n = mantel(jaccard, bray_curt)\n",
    "print(f\"Correlation coefficient = {corr}, \\np = {p}\")"
   ]
  },
  {
   "cell_type": "markdown",
   "id": "e903aa68",
   "metadata": {},
   "source": [
    "### UniFrac"
   ]
  },
  {
   "cell_type": "markdown",
   "id": "d317c9f1",
   "metadata": {},
   "source": [
    "## Using beta diversity"
   ]
  },
  {
   "cell_type": "code",
   "execution_count": 94,
   "id": "220cb63a",
   "metadata": {},
   "outputs": [
    {
     "data": {
      "text/plain": [
       "<AxesSubplot:>"
      ]
     },
     "execution_count": 94,
     "metadata": {},
     "output_type": "execute_result"
    },
    {
     "data": {
      "image/png": "[encoded data removed]",
      "text/plain": [
       "<Figure size 432x288 with 2 Axes>"
      ]
     },
     "metadata": {
      "needs_background": "light"
     },
     "output_type": "display_data"
    }
   ],
   "source": [
    "import seaborn as sns\n",
    "\n",
    "sns.heatmap(distances_df)"
   ]
  },
  {
   "cell_type": "markdown",
   "id": "69c0f7dd",
   "metadata": {},
   "source": [
    "## Real world example"
   ]
  },
  {
   "cell_type": "markdown",
   "id": "9712841d",
   "metadata": {},
   "source": [
    "## Interactive example/homework"
   ]
  },
  {
   "cell_type": "code",
   "execution_count": null,
   "id": "f827c52d",
   "metadata": {},
   "outputs": [],
   "source": []
  }
 ],
 "metadata": {
  "kernelspec": {
   "display_name": "Python 3 (ipykernel)",
   "language": "python",
   "name": "python3"
  },
  "language_info": {
   "codemirror_mode": {
    "name": "ipython",
    "version": 3
   },
   "file_extension": ".py",
   "mimetype": "text/x-python",
   "name": "python",
   "nbconvert_exporter": "python",
   "pygments_lexer": "ipython3",
   "version": "3.9.7"
  }
 },
 "nbformat": 4,
 "nbformat_minor": 5
}
