{
 "cells": [
  {
   "cell_type": "markdown",
   "id": "edc25c0d",
   "metadata": {},
   "source": [
    "# Alpha Diversity\n",
    "\n",
    "## What is alpha diversity?\n",
    "\n",
    "- Alpha diversity is a measure of the unique species (or taxonomic units) existing within one sample. \n",
    "\n",
    "Measurements of alpha diversity can be broken into two categories - richness and evenness. **Richness** is how most people think of diversity, as it describes the number of unique species in a sampling location. **Evenness**, on the other hand is a measure of how evenly the organisms in a community are distributed across the different species.\n",
    "\n",
    "\n",
    "### An example\n",
    "\n",
    "Suppose sampling location A harbors 10 unique species, and location B harbors 25 unique species. Location B would be considered to have higher richness than sample A.\n",
    "\n",
    "However, if each of location A's species had a population of 2 (e.g. 2 foxes, 2 cats, 2 dogs, etc...), but location B was dominated by one species (e.g. 200 foxes, 1 cat, 1 dog, 1 horse, 1 proboscis monkey, 1 thorny dragon, etc...), we could say that location A has higher richness than location B.\n",
    "\n",
    "If this isn't super clear yet, don't worry! There will be more examples as we work through this chapter."
   ]
  },
  {
   "cell_type": "markdown",
   "id": "f2da76b5",
   "metadata": {},
   "source": [
    "## Why do we care about alpha diversity?\n",
    "\n",
    "When thinking about the health of a microbial community, it's important to consider factors that encourage stability, as a stable community is one that is not as susceptible to large perturbations by invading species or a lack of nutrients. \n",
    "\n",
    "[Konopka](https://www.nature.com/articles/ismej200988) outlines the importance of high alpha diversity for community stability, notably that high diversity encourages community resistance and resilience.\n",
    "\n",
    "### Resistance\n",
    "Resistance is how little a community changes in response to some stress. For example, if you push on the side of a massive boulder, it is resistant to moving. However, if you push a tennis ball, it rolls away and is not resistant to moving.\n",
    "\n",
    "### Resilience\n",
    "\n",
    "Resilience is how able a community that has been perturbed can return to its previous (theoretically homeostatic) state. Resilience depends on how well the community can keep performing the functions that it needs after the perturbation, which is reliant on functional diversity and functional redundancy.\n",
    "\n",
    "- **Functional diversity**\n",
    "    - Functional diversity is the diversity (or richness) of functions that can be performed by a community.\n",
    "    - High richness is associated with higher functional diversity.\n",
    "- **Functional redundancy**\n",
    "    - Functional redundancy is how well a community can keep performing a function if one individual or species that performs it is removed.\n",
    "    - High richness and evenness are associated with functional redundancy.\n",
    "\n",
    "For an example of community resilience, let's consider that you live on a theoretical commune. If you only have one way of procuring food (picking berries), what happens if the berries stop growing? There's no way to get food anymore! It would be a better idea to also grow some beans and wheat, or to hunt as well. A commune that has multiple methods of getting food has higher functional diversity than a commune with just one method of food procurement, and that commune is thus more resilient to drought or other challenges in getting food. \n",
    "\n",
    "Additionally, consider that your commune only has one person who knows how to make medicine. What happens when that person gets whisked away while swimming in the river? It would make a lot more sense to have another person who can step in to make the medicine. This is an example of functional redundancy. If multiple people/species can perform the same function, you don't have to worry as much about losing one individual/species, as the community can keep working like before.\n",
    "\n",
    "### TODO: resistance/resilience simluation?"
   ]
  },
  {
   "cell_type": "markdown",
   "id": "9d39df87",
   "metadata": {},
   "source": [
    "## How do we quantify alpha diversity?\n",
    "\n",
    "There are multiple metrics for quantifying alpha diversity. Common metrics include:\n",
    "- Faith's phylogenetic diversity\n",
    "- Shannon entropy\n",
    "- Chao1 diversity\n",
    "- Observed features\n",
    "- Pielou's evenness\n",
    "\n",
    "### TODO: code examples for each"
   ]
  },
  {
   "cell_type": "markdown",
   "id": "60a5e804",
   "metadata": {},
   "source": [
    "## Richness vs evenness\n"
   ]
  },
  {
   "cell_type": "markdown",
   "id": "68415793",
   "metadata": {},
   "source": [
    "## Interactive example/Homework\n"
   ]
  }
 ],
 "metadata": {
  "kernelspec": {
   "display_name": "Python 3 (ipykernel)",
   "language": "python",
   "name": "python3"
  },
  "language_info": {
   "codemirror_mode": {
    "name": "ipython",
    "version": 3
   },
   "file_extension": ".py",
   "mimetype": "text/x-python",
   "name": "python",
   "nbconvert_exporter": "python",
   "pygments_lexer": "ipython3",
   "version": "3.9.7"
  }
 },
 "nbformat": 4,
 "nbformat_minor": 5
}
