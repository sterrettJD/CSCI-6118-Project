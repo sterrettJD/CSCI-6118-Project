{
 "cells": [
  {
   "cell_type": "markdown",
   "id": "edc25c0d",
   "metadata": {},
   "source": [
    "# Alpha Diversity\n",
    "\n",
    "## What is alpha diversity?\n",
    "\n",
    "- Alpha diversity is a measure of the unique species (or taxonomic units) existing within one sample. \n",
    "\n",
    "Measurements of alpha diversity can be broken into two categories - richness and evenness. **Richness** is how most people think of diversity, as it describes the number of unique species in a sampling location. **Evenness**, on the other hand is a measure of how evenly the organisms in a community are distributed across the different species.\n",
    "\n",
    "\n",
    "### An example\n",
    "\n",
    "Suppose sampling location A harbors 10 unique species, and location B harbors 25 unique species. Location B would be considered to have higher richness than sample A.\n",
    "\n",
    "However, if each of location A's species had a population of 2 (e.g. 2 foxes, 2 cats, 2 dogs, etc...), but location B was dominated by one species (e.g. 200 foxes, 1 cat, 1 dog, 1 horse, 1 proboscis monkey, 1 thorny dragon, etc...), we could say that location A has higher richness than location B.\n",
    "\n",
    "If this isn't super clear yet, don't worry! There will be more examples as we work through this chapter."
   ]
  },
  {
   "cell_type": "markdown",
   "id": "f2da76b5",
   "metadata": {},
   "source": [
    "## Why do we care about alpha diversity?\n",
    "\n"
   ]
  },
  {
   "cell_type": "markdown",
   "id": "9d39df87",
   "metadata": {},
   "source": [
    "## How do we quantify alpha diversity?\n",
    "\n"
   ]
  },
  {
   "cell_type": "markdown",
   "id": "60a5e804",
   "metadata": {},
   "source": [
    "## Richness vs evenness\n"
   ]
  },
  {
   "cell_type": "markdown",
   "id": "68415793",
   "metadata": {},
   "source": [
    "## Interactive example/Homework\n"
   ]
  }
 ],
 "metadata": {
  "kernelspec": {
   "display_name": "Python 3 (ipykernel)",
   "language": "python",
   "name": "python3"
  },
  "language_info": {
   "codemirror_mode": {
    "name": "ipython",
    "version": 3
   },
   "file_extension": ".py",
   "mimetype": "text/x-python",
   "name": "python",
   "nbconvert_exporter": "python",
   "pygments_lexer": "ipython3",
   "version": "3.9.7"
  }
 },
 "nbformat": 4,
 "nbformat_minor": 5
}
