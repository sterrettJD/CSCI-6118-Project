{
 "cells": [
  {
   "cell_type": "markdown",
   "id": "edc25c0d",
   "metadata": {},
   "source": [
    "# Alpha Diversity\n",
    "\n",
    "## What is alpha diversity?\n",
    "\n",
    "- Alpha diversity is a measure of the unique species (or taxonomic units) existing within one sample. \n",
    "\n",
    "Measurements of alpha diversity can be broken into two categories - richness and evenness. **Richness** is how most people think of diversity, as it describes the number of unique species in a sampling location. **Evenness**, on the other hand is a measure of how evenly the organisms in a community are distributed across the different species.\n",
    "\n",
    "\n",
    "### An example\n",
    "\n",
    "Suppose sampling location A harbors 10 unique species, and location B harbors 25 unique species. Location B would be considered to have higher richness than sample A.\n",
    "\n",
    "However, if each of location A's species had a population of 2 (e.g. 2 foxes, 2 cats, 2 dogs, etc...), but location B was dominated by one species (e.g. 200 foxes, 1 cat, 1 dog, 1 horse, 1 proboscis monkey, 1 thorny dragon, etc...), we could say that location A has higher richness than location B.\n",
    "\n",
    "If this isn't super clear yet, don't worry! There will be more examples as we work through this chapter."
   ]
  },
  {
   "cell_type": "markdown",
   "id": "f2da76b5",
   "metadata": {},
   "source": [
    "## Why do we care about alpha diversity?\n",
    "\n",
    "When thinking about the health of a microbial community, it's important to consider factors that encourage stability, as a stable community is one that is not as susceptible to large perturbations by invading species or a lack of nutrients. \n",
    "\n",
    "[Konopka](https://www.nature.com/articles/ismej200988) outlines the importance of high alpha diversity for community stability, notably that high diversity encourages community resistance and resilience.\n",
    "\n",
    "### Resistance\n",
    "Resistance is how little a community changes in response to some stress. For example, if you push on the side of a massive boulder, it is resistant to moving. However, if you push a tennis ball, it rolls away and is not resistant to moving.\n",
    "\n",
    "### Resilience\n",
    "\n",
    "Resilience is how able a community that has been perturbed can return to its previous (theoretically homeostatic) state. Resilience depends on how well the community can keep performing the functions that it needs after the perturbation, which is reliant on functional diversity and functional redundancy.\n",
    "\n",
    "- **Functional diversity**\n",
    "    - Functional diversity is the diversity (or richness) of functions that can be performed by a community.\n",
    "    - High richness is associated with higher functional diversity.\n",
    "- **Functional redundancy**\n",
    "    - Functional redundancy is how well a community can keep performing a function if one individual or species that performs it is removed.\n",
    "    - High richness and evenness are associated with functional redundancy.\n",
    "\n",
    "For an example of community resilience, let's consider that you live on a theoretical commune. If you only have one way of procuring food (picking berries), what happens if the berries stop growing? There's no way to get food anymore! It would be a better idea to also grow some beans and wheat, or to hunt as well. A commune that has multiple methods of getting food has higher functional diversity than a commune with just one method of food procurement, and that commune is thus more resilient to drought or other challenges in getting food. \n",
    "\n",
    "Additionally, consider that your commune only has one person who knows how to make medicine. What happens when that person gets whisked away while swimming in the river? It would make a lot more sense to have another person who can step in to make the medicine. This is an example of functional redundancy. If multiple people/species can perform the same function, you don't have to worry as much about losing one individual/species, as the community can keep working like before.\n",
    "\n",
    "### TODO: resistance/resilience simluation?"
   ]
  },
  {
   "cell_type": "markdown",
   "id": "9d39df87",
   "metadata": {},
   "source": [
    "## How do we quantify alpha diversity?\n",
    "\n",
    "There are multiple metrics for quantifying alpha diversity. Common metrics include:\n",
    "- Observed features\n",
    "- Shannon's diversity index\n",
    "- Chao1 diversity\n",
    "- Faith's phylogenetic diversity\n",
    "- Pielou's evenness\n",
    "\n",
    "These metrics can be divided into quantitative vs qualitative, phylogenetic vs non-phylogenetic, and richness vs evenness.\n",
    "\n",
    "**Classifications:** Qualitative metrics are only concerned with whether a taxon is present or absent, but quantitative metrics take the abundances of each taxon into account. The distinction between phylogenetic vs non-phylogenetic metrics is based on whether they utilize a phylogenetic tree.\n"
   ]
  },
  {
   "cell_type": "markdown",
   "id": "4aa911e9",
   "metadata": {},
   "source": [
    "### Observed features\n",
    "\n",
    "To start, observed features (also called observed operational taxonomic units, or observed OTUs) is the simplest way of calculating richness. Each taxon that we observe in a sample is the number of observed OTUs. We can calculate observed features as such:"
   ]
  },
  {
   "cell_type": "code",
   "execution_count": 61,
   "id": "4bb147b7",
   "metadata": {},
   "outputs": [],
   "source": [
    "import numpy as np\n",
    "import pandas as pd\n",
    "import matplotlib.pyplot as plt"
   ]
  },
  {
   "cell_type": "code",
   "execution_count": 67,
   "id": "5653c8ac",
   "metadata": {},
   "outputs": [],
   "source": [
    "def calc_observed_features(populations):\n",
    "    \"\"\"\n",
    "    This function returns the observed features for a sample.\n",
    "    The input should be a list, ndarray, or pd.Series.\n",
    "    \"\"\"\n",
    "    # make it a list to be sure\n",
    "    populations = list(populations)\n",
    "    \n",
    "    # initialize our observed features variable as 0\n",
    "    observed_features = 0\n",
    "    \n",
    "    # for each taxon, if it's greater than 1, add 1 to observed features\n",
    "    for tax in populations:\n",
    "        if tax > 0:\n",
    "            observed_features += 1\n",
    "            \n",
    "    return observed_features"
   ]
  },
  {
   "cell_type": "code",
   "execution_count": 71,
   "id": "0ac05aa7",
   "metadata": {},
   "outputs": [
    {
     "name": "stdout",
     "output_type": "stream",
     "text": [
      "cats      12\n",
      "foxes      2\n",
      "whales     0\n",
      "frogs     52\n",
      "sharks     0\n",
      "dogs       7\n",
      "dtype: int64 \n",
      "\n",
      "Observed features: 4\n"
     ]
    }
   ],
   "source": [
    "populations = [12, 2, 0, 52, 0, 7]\n",
    "data = pd.Series(populations, index = [\"cats\", \"foxes\", \"whales\", \"frogs\", \"sharks\",\"dogs\"])\n",
    "\n",
    "print(data, \"\\n\")\n",
    "\n",
    "observed_features = calc_observed_features(data)\n",
    "print(f\"Observed features: {observed_features}\")"
   ]
  },
  {
   "cell_type": "markdown",
   "id": "44523ffd",
   "metadata": {},
   "source": [
    "As could be expected, the value for observed features will grow linearly with the number of taxa present. \n",
    "\n",
    "Because it does not depend on how many of each taxon are present, and because it does not depend on phylogeny, observed features is a qualitative, non-phylogenetic measure of richness.\n",
    "\n",
    "Additionally, it can be calculated using scikit-bio's implementation (you don't have to write your own function)."
   ]
  },
  {
   "cell_type": "code",
   "execution_count": 72,
   "id": "fe3d6489",
   "metadata": {},
   "outputs": [],
   "source": [
    "from skbio.diversity.alpha import observed_otus"
   ]
  },
  {
   "cell_type": "code",
   "execution_count": 74,
   "id": "1de450c6",
   "metadata": {},
   "outputs": [
    {
     "name": "stdout",
     "output_type": "stream",
     "text": [
      "Scikit-bio: 4\n",
      "Our function: 4\n"
     ]
    }
   ],
   "source": [
    "print(f\"Scikit-bio: {observed_otus(populations)}\")\n",
    "print(f\"Our function: {observed_features}\")"
   ]
  },
  {
   "cell_type": "markdown",
   "id": "f4e88a19",
   "metadata": {},
   "source": [
    "### Shannon's diversity index\n",
    "\n",
    "Shannon's diversity index is calculated by summing the relative abundance of a certain taxa ($p_i$) times the natural log of its relative abundance, and can be written as such: \n",
    "\n",
    "$$H = -\\sum p_i \\ln p_i$$\n",
    "\n",
    "Consider a community that contains only one species. In this case, p_i would equal 1, and \n",
    "$$ H = -1 \\times ln(1) = -1 \\times 0 = 0 $$\n",
    "\n",
    "What happens if we add more species? Let's investigate with code!"
   ]
  },
  {
   "cell_type": "code",
   "execution_count": 28,
   "id": "ad8f0229",
   "metadata": {},
   "outputs": [],
   "source": [
    "def calc_shannon(populations):\n",
    "    \"\"\"\n",
    "    When given a ndarray of population counts for a sample, \n",
    "    this function returns the shannon diversity index of that sample.\n",
    "    \"\"\"\n",
    "    # divide each element of the populations array by the sum\n",
    "    # this converts it to relative abundances\n",
    "    populations /= populations.sum()\n",
    "    \n",
    "    # create a shannon_diversity variable\n",
    "    shannon_diversity = 0\n",
    "    \n",
    "    # take the sum of p_i * ln(p_i) for all counts\n",
    "    for count in populations:\n",
    "        shannon_diversity += ( count*np.log(count) )\n",
    "    \n",
    "    # make it negative\n",
    "    shannon_diversity *= -1\n",
    "    \n",
    "    return shannon_diversity"
   ]
  },
  {
   "cell_type": "code",
   "execution_count": 48,
   "id": "5fc79e78",
   "metadata": {},
   "outputs": [
    {
     "data": {
      "image/png": "[encoded data removed]",
      "text/plain": [
       "<Figure size 432x288 with 1 Axes>"
      ]
     },
     "metadata": {
      "needs_background": "light"
     },
     "output_type": "display_data"
    }
   ],
   "source": [
    "# initialize an empty list\n",
    "shannon_values = []\n",
    "\n",
    "# from 0 to 50, make an array of ones with a length = i\n",
    "for i in range(50):\n",
    "    populations = np.ones(i, dtype=float)\n",
    "    \n",
    "    # calculate shannon diversity for each one, then add it to the list\n",
    "    shannon_diversity = calc_shannon(populations)\n",
    "    shannon_values.append(shannon_diversity)\n",
    "    \n",
    "# plot it out\n",
    "fig,ax = plt.subplots(nrows=1,ncols=1)\n",
    "ax.plot(range(50), shannon_values)\n",
    "ax.set_title(\"Shannon diversity by number of species\")\n",
    "ax.set_xlabel(\"Species present\")\n",
    "ax.set_ylabel(\"Shannon diversity index\")\n",
    "plt.show()"
   ]
  },
  {
   "cell_type": "markdown",
   "id": "2e04575a",
   "metadata": {},
   "source": [
    "One can see from this figure that as the number of species present increases, the Shannon diversity index increases, but it isn't a purely linear relationship.\n",
    "\n",
    "What happens when most of the population is made up by one species? Let's find out again!"
   ]
  },
  {
   "cell_type": "code",
   "execution_count": 52,
   "id": "6468fdda",
   "metadata": {},
   "outputs": [
    {
     "data": {
      "image/png": "[encoded data removed]",
      "text/plain": [
       "<Figure size 432x288 with 1 Axes>"
      ]
     },
     "metadata": {
      "needs_background": "light"
     },
     "output_type": "display_data"
    }
   ],
   "source": [
    "# initialize an empty list\n",
    "shannon_values = []\n",
    "\n",
    "# from 0 to 50, make population of species 0 = i\n",
    "for i in range(1,50):\n",
    "    populations = np.ones(50, dtype=float)\n",
    "    populations[0] = i\n",
    "    \n",
    "    \n",
    "    # calculate shannon diversity for each one, then add it to the list\n",
    "    shannon_diversity = calc_shannon(populations)\n",
    "    shannon_values.append(shannon_diversity)\n",
    "    \n",
    "# plot it out\n",
    "fig,ax = plt.subplots(nrows=1,ncols=1)\n",
    "ax.plot(range(1,50), shannon_values)\n",
    "ax.set_title(\"Shannon diversity by number of species\")\n",
    "ax.set_xlabel(\"Population of species 0\")\n",
    "ax.set_ylabel(\"Shannon diversity index\")\n",
    "ax.set_ylim(0,4)\n",
    "plt.show()"
   ]
  },
  {
   "cell_type": "markdown",
   "id": "cc67a9c7",
   "metadata": {},
   "source": [
    "In this case, we can see that Shannon's diversity decreases as one species begins to dominate the community. Shannon diversity is primarily used as a metric for richness, but it is affected by how even the community is. Because it does not consider phylogenetic similarity of the taxa, but it does consider the populations of each taxon, Shannon diversity is a non-phylogenetic, quantitative index.\n",
    "\n",
    "Lastly, there is a function implemented in scikit-bio to calculate Shannon's diversity. You can see below that it returns the same value as our implementation of the function."
   ]
  },
  {
   "cell_type": "code",
   "execution_count": 75,
   "id": "d4923b48",
   "metadata": {},
   "outputs": [],
   "source": [
    "from skbio.diversity.alpha import shannon"
   ]
  },
  {
   "cell_type": "code",
   "execution_count": 76,
   "id": "2a6601dc",
   "metadata": {},
   "outputs": [
    {
     "name": "stdout",
     "output_type": "stream",
     "text": [
      "Scikit-bio: 3.9120230054281455\n",
      "Our function: 3.912023005428145\n"
     ]
    }
   ],
   "source": [
    "populations = np.ones(50)\n",
    "print(f\"Scikit-bio: {shannon(populations, base=np.e)}\")\n",
    "\n",
    "print(f\"Our function: {calc_shannon(populations)}\")"
   ]
  },
  {
   "cell_type": "markdown",
   "id": "8620d29a",
   "metadata": {},
   "source": [
    "### Faith's phylogenetic diversity\n",
    "\n",
    "Faith's phylogenetic diversity is - you guessed it - our first phylogenetic alpha diversity metric! Faith's PD is a quantitative, phylogenetic richness metric. We won't write our own function because it would be a little more detailed than we want for this chapter.\n",
    "\n",
    "Let's consider the phylogenetic diversity of two people's shopping carts.\n",
    "\n",
    "To start, we need a phylogenetic tree. Typically you'll be reading a file, not a string, so don't worry about having to decipher `food_tree_str`. It's just a Newick formatted phylogenet tree. If reading a file, you can use `TreeNode.read(\"path/to/tree\")`."
   ]
  },
  {
   "cell_type": "code",
   "execution_count": 106,
   "id": "41c49057",
   "metadata": {},
   "outputs": [],
   "source": [
    "from skbio import TreeNode\n",
    "from io import StringIO"
   ]
  },
  {
   "cell_type": "code",
   "execution_count": 107,
   "id": "3c2a6f4a",
   "metadata": {},
   "outputs": [
    {
     "name": "stdout",
     "output_type": "stream",
     "text": [
      "                              /-apples\n",
      "                    /fruit---|\n",
      "                   |          \\-bananas\n",
      "          /produce-|\n",
      "         |         |          /-broccoli\n",
      "         |          \\vegetables\n",
      "         |                    \\-spinach\n",
      "         |\n",
      "         |          /-chicken\n",
      "         |-meat----|\n",
      "-items---|          \\-beef\n",
      "         |\n",
      "         |          /-milk\n",
      "         |-beverages\n",
      "         |         |          /-orange juice\n",
      "         |          \\juice---|\n",
      "         |                    \\-apple juice\n",
      "         |\n",
      "          \\sweets-- /-cookies\n"
     ]
    }
   ],
   "source": [
    "food_tree_str = \"\"\"(((apples,bananas)fruit,(broccoli,spinach)vegetables)produce,\n",
    "                     (chicken,beef)meat,(milk,(orange_juice,apple_juice)juice)beverages,\n",
    "                     (cookies)sweets)items;\"\"\"\n",
    "\n",
    "food_tree = TreeNode.read(StringIO(food_tree_str))\n",
    "\n",
    "print(food_tree.ascii_art())\n",
    "\n",
    "for node in food_tree.postorder():\n",
    "    node.length = 1"
   ]
  },
  {
   "cell_type": "code",
   "execution_count": 108,
   "id": "08581a22",
   "metadata": {},
   "outputs": [
    {
     "data": {
      "text/html": [
       "<div>\n",
       "<style scoped>\n",
       "    .dataframe tbody tr th:only-of-type {\n",
       "        vertical-align: middle;\n",
       "    }\n",
       "\n",
       "    .dataframe tbody tr th {\n",
       "        vertical-align: top;\n",
       "    }\n",
       "\n",
       "    .dataframe thead th {\n",
       "        text-align: right;\n",
       "    }\n",
       "</style>\n",
       "<table border=\"1\" class=\"dataframe\">\n",
       "  <thead>\n",
       "    <tr style=\"text-align: right;\">\n",
       "      <th></th>\n",
       "      <th>apples</th>\n",
       "      <th>bananas</th>\n",
       "      <th>broccoli</th>\n",
       "      <th>spinach</th>\n",
       "      <th>chicken</th>\n",
       "      <th>beef</th>\n",
       "      <th>milk</th>\n",
       "      <th>orange juice</th>\n",
       "      <th>apple juice</th>\n",
       "      <th>cookies</th>\n",
       "    </tr>\n",
       "  </thead>\n",
       "  <tbody>\n",
       "    <tr>\n",
       "      <th>0</th>\n",
       "      <td>1</td>\n",
       "      <td>1</td>\n",
       "      <td>1</td>\n",
       "      <td>1</td>\n",
       "      <td>1</td>\n",
       "      <td>1</td>\n",
       "      <td>0</td>\n",
       "      <td>0</td>\n",
       "      <td>0</td>\n",
       "      <td>0</td>\n",
       "    </tr>\n",
       "    <tr>\n",
       "      <th>1</th>\n",
       "      <td>1</td>\n",
       "      <td>0</td>\n",
       "      <td>1</td>\n",
       "      <td>0</td>\n",
       "      <td>1</td>\n",
       "      <td>0</td>\n",
       "      <td>1</td>\n",
       "      <td>0</td>\n",
       "      <td>1</td>\n",
       "      <td>1</td>\n",
       "    </tr>\n",
       "  </tbody>\n",
       "</table>\n",
       "</div>"
      ],
      "text/plain": [
       "   apples  bananas  broccoli  spinach  chicken  beef  milk  orange juice  \\\n",
       "0       1        1         1        1        1     1     0             0   \n",
       "1       1        0         1        0        1     0     1             0   \n",
       "\n",
       "   apple juice  cookies  \n",
       "0            0        0  \n",
       "1            1        1  "
      ]
     },
     "execution_count": 108,
     "metadata": {},
     "output_type": "execute_result"
    }
   ],
   "source": [
    "foods = [\"apples\", \"bananas\",\n",
    "         \"broccoli\", \"spinach\",\n",
    "         \"chicken\", \"beef\",\n",
    "         \"milk\", \"orange juice\", \"apple juice\", \n",
    "         \"cookies\"]\n",
    "\n",
    "person_1 = [1, 1,\n",
    "            1, 1,\n",
    "            1, 1,\n",
    "            0, 0, 0,\n",
    "            0]\n",
    "person_2 = [1, 0, \n",
    "            1, 0,\n",
    "            1, 0,\n",
    "            1, 0, 1,\n",
    "            1]\n",
    "\n",
    "data = pd.DataFrame([person_1, person_2], columns=foods)\n",
    "data"
   ]
  },
  {
   "cell_type": "markdown",
   "id": "511fd2f4",
   "metadata": {},
   "source": [
    "In the above example, do you expect person 0 or person 1 to have a higher Faith's PD? They both have the same number of features (or different foods in this case), but which one's food is more spread out across the phylogenetic tree?"
   ]
  },
  {
   "cell_type": "code",
   "execution_count": 109,
   "id": "7c1c7d74",
   "metadata": {},
   "outputs": [],
   "source": [
    "from skbio.diversity.alpha import faith_pd"
   ]
  },
  {
   "cell_type": "code",
   "execution_count": 110,
   "id": "d4ff718d",
   "metadata": {},
   "outputs": [
    {
     "name": "stdout",
     "output_type": "stream",
     "text": [
      "Person 0 Faith PD = 11.0; observed features = 6\n",
      "Person 1 Faith PD = 14.0; observed features = 6\n"
     ]
    }
   ],
   "source": [
    "faith_0 = faith_pd(data.loc[0], otu_ids=foods, tree=food_tree, validate=False)\n",
    "faith_1 = faith_pd(data.loc[1], otu_ids=foods, tree=food_tree, validate=False)\n",
    "features_0 = observed_otus(data.loc[0])\n",
    "features_1 = observed_otus(data.loc[1])\n",
    "\n",
    "print(f\"Person 0 Faith PD = {faith_0}; observed features = {features_0}\")\n",
    "print(f\"Person 1 Faith PD = {faith_1}; observed features = {features_1}\")"
   ]
  },
  {
   "cell_type": "markdown",
   "id": "ead03107",
   "metadata": {},
   "source": [
    "If you guess that person"
   ]
  },
  {
   "cell_type": "markdown",
   "id": "68415793",
   "metadata": {},
   "source": [
    "## Interactive example/Homework\n"
   ]
  },
  {
   "cell_type": "code",
   "execution_count": null,
   "id": "928e4bb6",
   "metadata": {},
   "outputs": [],
   "source": []
  }
 ],
 "metadata": {
  "kernelspec": {
   "display_name": "Python 3 (ipykernel)",
   "language": "python",
   "name": "python3"
  },
  "language_info": {
   "codemirror_mode": {
    "name": "ipython",
    "version": 3
   },
   "file_extension": ".py",
   "mimetype": "text/x-python",
   "name": "python",
   "nbconvert_exporter": "python",
   "pygments_lexer": "ipython3",
   "version": "3.9.6"
  }
 },
 "nbformat": 4,
 "nbformat_minor": 5
}
