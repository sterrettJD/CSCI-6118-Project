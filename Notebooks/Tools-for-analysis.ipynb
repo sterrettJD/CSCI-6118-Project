{
 "cells": [
  {
   "cell_type": "markdown",
   "id": "46de91f5",
   "metadata": {},
   "source": [
    "# Tools for analysis"
   ]
  },
  {
   "cell_type": "markdown",
   "id": "c0c5b42a",
   "metadata": {},
   "source": [
    "## A brief intro to Python\n",
    "\n",
    "This resource assumes Python is already installed.\n",
    "\n",
    "This resource assumes some familiarity with Python basics such as:\n",
    "- Variables \n",
    "    - Assigning variables\n",
    "    - Basic variable types (lists, dicts, strings, booleans, tuples)\n",
    "- Control flow\n",
    "    - `for` loops\n",
    "    - `while` loops\n",
    "    - `if`/`elif`/`else` statements\n",
    "- Logical checks\n",
    "    - E.g. `==`, `>`, `<`, etc\n",
    "- Functions\n",
    "    - Defining functions\n",
    "    - Calling functions\n",
    "- Methods and attributes\n",
    "    - Calling methods and attributes\n",
    "    - (We will likely not define any methods or attributes, but it will be good to understand how to use them)\n",
    "- Comments\n",
    "\n",
    "\n",
    "\n",
    "If you need more information regarding those, see these resources:\n",
    "- [W3 Schools](https://www.w3schools.com/python/python_variables.asp)\n",
    "    - Work through Python modules"
   ]
  },
  {
   "cell_type": "markdown",
   "id": "84da2d10",
   "metadata": {},
   "source": [
    "## Handling data\n",
    "\n",
    "### Numpy\n",
    "\n",
    "#### importing numpy\n",
    "\n",
    "#### What's an array?\n",
    "\n",
    "#### What a matrix?\n",
    "\n",
    "#### Accessing elements in an array/matrix\n",
    "\n",
    "### Pandas"
   ]
  },
  {
   "cell_type": "markdown",
   "id": "dfd11d6b",
   "metadata": {},
   "source": [
    "## Plotting\n",
    "\n",
    "### Matplotlib\n",
    "\n",
    "### Seaborn"
   ]
  },
  {
   "cell_type": "markdown",
   "id": "04fe343d",
   "metadata": {},
   "source": [
    "## Statistical analysis\n",
    "\n",
    "### SciPy\n",
    "\n",
    "### Scikit-bio"
   ]
  },
  {
   "cell_type": "markdown",
   "id": "65c68991",
   "metadata": {},
   "source": [
    "## Network analysis\n",
    "\n",
    "### Networkx"
   ]
  },
  {
   "cell_type": "code",
   "execution_count": null,
   "id": "855f1e70",
   "metadata": {},
   "outputs": [],
   "source": []
  }
 ],
 "metadata": {
  "kernelspec": {
   "display_name": "Python 3 (ipykernel)",
   "language": "python",
   "name": "python3"
  },
  "language_info": {
   "codemirror_mode": {
    "name": "ipython",
    "version": 3
   },
   "file_extension": ".py",
   "mimetype": "text/x-python",
   "name": "python",
   "nbconvert_exporter": "python",
   "pygments_lexer": "ipython3",
   "version": "3.9.7"
  }
 },
 "nbformat": 4,
 "nbformat_minor": 5
}
