{
 "cells": [
  {
   "cell_type": "markdown",
   "id": "ba64fcb3-120a-43fe-8106-675363a4cdcf",
   "metadata": {
    "tags": []
   },
   "source": [
    "# Tools for Analysis"
   ]
  },
  {
   "cell_type": "markdown",
   "id": "c0c5b42a",
   "metadata": {
    "tags": []
   },
   "source": [
    "## A Brief Introduction to Python\n",
    "\n",
    "This resource assumes Python is already installed, and\n",
    "that the user has some familiarity with Python basics such as:\n",
    "\n",
    "- Variables \n",
    "    - Assigning variables\n",
    "    - Basic variable types (lists, dicts, strings, booleans, tuples)\n",
    "- Control flow\n",
    "    - `for` loops\n",
    "    - `while` loops\n",
    "    - `if`/`elif`/`else` statements\n",
    "- Logical checks\n",
    "    - E.g. `==`, `>`, `<`, etc\n",
    "- Functions\n",
    "    - Defining functions\n",
    "    - Calling functions\n",
    "- Methods and attributes\n",
    "    - Calling methods and attributes\n",
    "    - (We will likely not define any methods or attributes, but it will be good to understand how to use them)\n",
    "- Comments\n",
    "\n",
    "If you need more information regarding those, see these resources:\n",
    "- [W3 Schools](https://www.w3schools.com/python/python_variables.asp)\n",
    "    - Work through Python modules"
   ]
  },
  {
   "cell_type": "markdown",
   "id": "e8a141aa-e50c-4877-81ca-5ae3cc42cf23",
   "metadata": {},
   "source": [
    "## Handling Data\n",
    "\n",
    "### NumPy\n",
    "\n",
    "- NumPy (Numerical Python) is an open source Python library used in many areas of science and engineering.\\\n",
    "It utilizes multidimensional array and matrix data structures, similarly to MATLAB. NumPy is an object-oriented\\\n",
    "coding package that uses `ndarray`, and n-dimensional array object on which methods can operate. \n",
    "\n",
    "\n",
    "#### Using NumPy on Your Computer\n",
    "\n",
    "- NumPy must both be installed and imported.\n",
    "    - First, to install NumPy, open a Terminal window on your computer and type the following command: `pip install numpy`\n",
    "    - If you have Anaconda installed, you can install NumPy using the command: `conda install numpy`\n",
    "        - Note that Conda is the package manager for Anaconda whereas pip is the package manager for Python. You can use pip           if you do not have Anaconda installed.\n",
    "        \n",
    "    - Now that you have installed NumPy, you need to import it. To import this package, type the following command\n",
    "      into your Terminal window: `import numpy as np`. The imported name is shortened to `np` as a convention and for\n",
    "      better readability of code in NumPy. \n",
    "\n",
    "#### What's an Array?\n",
    "\n",
    "- An array is sort of like a list in Python, but its size is initialized ahead of time. This means that the array\n",
    "  can only hold as many elements as its initial size - it cannot be appended like a list can. An array is a homogenous\n",
    "  data structure (all of the elements in an array are of the same data type). Each element in an array is numbered\n",
    "  consequetively, beginning with 0. An array can be multidimensional. \n",
    "  \n",
    "- One-dimensional array can be indexed, sliced, and interated over similarly to lists in Python. Here are some examples of     one-dimensional arrays and their functionality: "
   ]
  },
  {
   "cell_type": "code",
   "execution_count": 13,
   "id": "e5f58f39-a683-49c4-a7c1-d1c081ab1f55",
   "metadata": {},
   "outputs": [
    {
     "name": "stdout",
     "output_type": "stream",
     "text": [
      "[1, 2, 3, 4, 5, 6, 7] \n",
      "\n",
      "[3, 3, 3, 3, 3] \n",
      "\n",
      "['' '' '' '' '' '' '' '' '' ''] \n",
      "\n",
      "['Hello World', 'Hello World', 'Hello World', 'Hello World'] \n",
      "\n"
     ]
    }
   ],
   "source": [
    "import numpy as np\n",
    "\n",
    "# This array is manually initialized. It has a length of 7. Each element is filled with an int. \n",
    "array_one = [1, 2, 3, 4, 5, 6, 7]\n",
    "print(array_one, '\\n')\n",
    "\n",
    "# This array is initialized using a for loop. The loop begins with i as 0 and finishes with i as 5 \n",
    "# (i is the index in the array). Each index has a value of 3.\n",
    "array_two = [3 for i in range(5)]\n",
    "print(array_two, '\\n')\n",
    "\n",
    "# This array uses the object-oriented funtionality of NumPy by calling the empty() method. The empty()\n",
    "# method takes the length of the array and element type as inputs. In this case, it returns an empty array of \n",
    "# length 10 which can be filled with strings.\n",
    "array_three = np.empty(10, dtype=str)\n",
    "print(array_three, '\\n')\n",
    "\n",
    "# This array demonstrates the algebraic functionality of NumPy. It outputs an array of length 4 with\n",
    "# each element as the given string.\n",
    "array_four = ['Hello World']*4\n",
    "print(array_four, '\\n')"
   ]
  },
  {
   "cell_type": "markdown",
   "id": "fc2323a9-1e24-402c-b362-394bcbdc643b",
   "metadata": {},
   "source": [
    "- Here are some examples of you can initialize multi-dimensional arrays:"
   ]
  },
  {
   "cell_type": "code",
   "execution_count": 17,
   "id": "14bb8570-0719-4bfe-b410-7a0e50f9b34a",
   "metadata": {},
   "outputs": [
    {
     "name": "stdout",
     "output_type": "stream",
     "text": [
      "[[83 41 30]\n",
      " [93 56 71]\n",
      " [83 25 71]\n",
      " [40 60 56]\n",
      " [86  5  6]\n",
      " [90 73 95]\n",
      " [93 40 10]\n",
      " [55  9  6]\n",
      " [13 53 20]\n",
      " [60 22 80]] \n",
      "\n",
      "[[160 210 425]\n",
      " [ 45 270 375]\n",
      " [220 110 245]\n",
      " [220 240 425]\n",
      " [175 180 380]\n",
      " [335 190 175]\n",
      " [ 20 310 445]\n",
      " [215 335 415]\n",
      " [225 255 465]\n",
      " [260 105 260]] \n",
      "\n",
      "[[55 48 40]\n",
      " [93 58 58]\n",
      " [83 57 49]\n",
      " [39 49 34]\n",
      " [92 74 20]\n",
      " [49 37 95]\n",
      " [48 30 27]\n",
      " [60 27 59]\n",
      " [29 10 44]\n",
      " [73 93 85]] \n",
      "\n"
     ]
    }
   ],
   "source": [
    "import numpy as np\n",
    "\n",
    "# Initialize an array of length 10 in dimension 1 and length 3 in dimension 2. \n",
    "# The array is filled with random integers in the range (0, 100).\n",
    "multi_array_one = np.random.randint(100, size=(10,3))\n",
    "print(multi_array_one, '\\n')\n",
    "\n",
    "# Initialize another array of length 10 in dimension 1 and length 3 in dimension 2. \n",
    "# The array is filled with random integers in the range (0, 100) and each element is then\n",
    "# multiplied by 5.\n",
    "multi_array_two = np.random.randint(100, size=(10,3))*5\n",
    "print(multi_array_two, '\\n')\n",
    "\n",
    "# Initialize yet another array of length 10 in dimension 1 and length 3 in dimension 2,\n",
    "# except this time each element is manually inputted.\n",
    "multi_array_three = np.array([[55, 48, 40], [93, 58, 58],\n",
    "                              [83, 57, 49], [39, 49, 34],\n",
    "                              [92, 74, 20], [49, 37, 95],\n",
    "                              [48, 30, 27], [60, 27, 59],\n",
    "                              [29, 10, 44], [73, 93, 85]])\n",
    "print(multi_array_three, '\\n')\n"
   ]
  },
  {
   "cell_type": "markdown",
   "id": "f6646727-e6b9-4a8b-8afe-b32d9e9f3f5e",
   "metadata": {
    "tags": []
   },
   "source": [
    "#### Accessing Elements in an Array\n",
    "\n",
    "- Let's say you have a large dataset and you want to extract data points below a certain value:\n"
   ]
  },
  {
   "cell_type": "code",
   "execution_count": 26,
   "id": "a5ff2a6e-5644-49e5-84d0-8351beeadc87",
   "metadata": {},
   "outputs": [
    {
     "name": "stdout",
     "output_type": "stream",
     "text": [
      "[[963 891  22 725 999 716 986]\n",
      " [704 293 167  62 996 132 214]\n",
      " [928 570 518 192 551 746 111]\n",
      " [674 141 162 175 109 649 469]\n",
      " [284 693 880 976 849 644 368]] \n",
      "\n",
      "[22, 293, 167, 62, 132, 214, 192, 111, 141, 162, 175, 109, 469, 284, 368]\n"
     ]
    }
   ],
   "source": [
    "import numpy as np\n",
    "\n",
    "# Initialize a dataset, this time it's a random array of integers in the range (0, 1000).\n",
    "# The array has a suze of 7x5.\n",
    "data_to_analyze = np.random.randint(1000, size=(5, 7))\n",
    "print(data_to_analyze, '\\n')\n",
    "\n",
    "# Set the value threshold. This is the maximum value you want to extract from your dataset.\n",
    "value_threshold = 500\n",
    "# Initialize an empty list which will eventually contain all datapoints you want to keep. \n",
    "output_data = []\n",
    "\n",
    "# Iterate through the dataset and append kept datapoints to the output list:\n",
    "for row in data_to_analyze:\n",
    "    for element in row:\n",
    "        if element < value_threshold:\n",
    "            output_data.append(element)\n",
    "print(output_data)"
   ]
  },
  {
   "cell_type": "markdown",
   "id": "51137c2a-fe0e-4702-932d-0f4f5ba640d7",
   "metadata": {},
   "source": [
    "- Note that the above example simply creates a list of data that you want to keep derived from a larger dataset.\n",
    "  Let's say that you still want to keep the datapoints only below a given threshold, but you wish to retain the same size       dataset as the original:"
   ]
  },
  {
   "cell_type": "code",
   "execution_count": 30,
   "id": "a23fdbe4-c6ff-4c95-a4e6-ee583d4ca3eb",
   "metadata": {},
   "outputs": [
    {
     "ename": "SyntaxError",
     "evalue": "invalid syntax (3693529429.py, line 11)",
     "output_type": "error",
     "traceback": [
      "\u001b[0;36m  File \u001b[0;32m\"/tmp/ipykernel_2492/3693529429.py\"\u001b[0;36m, line \u001b[0;32m11\u001b[0m\n\u001b[0;31m    output_data = np.empty((5,7) dtype=int)\u001b[0m\n\u001b[0m                                 ^\u001b[0m\n\u001b[0;31mSyntaxError\u001b[0m\u001b[0;31m:\u001b[0m invalid syntax\n"
     ]
    }
   ],
   "source": [
    "import numpy as np\n",
    "\n",
    "# Initialize a dataset, this time it's a random array of integers in the range (0, 1000).\n",
    "# The array has a suze of 7x5.\n",
    "data_to_analyze = np.random.randint(1000, size=(5, 7))\n",
    "print(data_to_analyze, '\\n')\n",
    "\n",
    "# Set the value threshold. This is the maximum value you want to extract from your dataset.\n",
    "value_threshold = 500\n",
    "# Initialize an empty array which will eventually contain all datapoints you want to keep. \n",
    "output_data = np.empty((5,7) dtype=int)\n",
    "\n",
    "# Iterate through the dataset and append kept datapoints to the output list:\n",
    "row_num = 0\n",
    "element_num = 0\n",
    "for row in data_to_analyze:\n",
    "    for element in row:\n",
    "        if element < value_threshold:\n",
    "            output_data[row_num, element_num] = element\n",
    "        else:\n",
    "            output_data[row_num, element_num] = None\n",
    "            \n",
    "        element_num += 1\n",
    "    row_num += 1\n",
    "    \n",
    "print(output_data)"
   ]
  },
  {
   "cell_type": "markdown",
   "id": "cecb474b-8fa6-46e7-b918-eae83fdbfb34",
   "metadata": {},
   "source": [
    "### Pandas\n",
    "\n",
    "#### Sources: \n",
    "- [NumPy: The Absolute Basics](https://numpy.org/doc/stable/user/absolute_beginners.html)\n",
    "- [NumPy: Create Random Set of Rows From 2D Array](https://www.w3resource.com/python-exercises/numpy/python-numpy-exercise-114.php)"
   ]
  },
  {
   "cell_type": "markdown",
   "id": "dfd11d6b",
   "metadata": {},
   "source": [
    "## Plotting\n",
    "\n",
    "### Matplotlib\n",
    "\n",
    "### Seaborn"
   ]
  },
  {
   "cell_type": "markdown",
   "id": "04fe343d",
   "metadata": {},
   "source": [
    "## Statistical analysis\n",
    "\n",
    "### SciPy\n",
    "\n",
    "### Scikit-bio"
   ]
  },
  {
   "cell_type": "markdown",
   "id": "65c68991",
   "metadata": {},
   "source": [
    "## Network analysis\n",
    "\n",
    "### Networkx"
   ]
  },
  {
   "cell_type": "code",
   "execution_count": null,
   "id": "855f1e70",
   "metadata": {},
   "outputs": [],
   "source": []
  }
 ],
 "metadata": {
  "kernelspec": {
   "display_name": "Python 3 (ipykernel)",
   "language": "python",
   "name": "python3"
  },
  "language_info": {
   "codemirror_mode": {
    "name": "ipython",
    "version": 3
   },
   "file_extension": ".py",
   "mimetype": "text/x-python",
   "name": "python",
   "nbconvert_exporter": "python",
   "pygments_lexer": "ipython3",
   "version": "3.9.6"
  }
 },
 "nbformat": 4,
 "nbformat_minor": 5
}
