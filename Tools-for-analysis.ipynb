{
 "cells": [
  {
   "cell_type": "markdown",
   "id": "c606b8ad",
   "metadata": {},
   "source": [
    "# Tools for analysis"
   ]
  },
  {
   "cell_type": "markdown",
   "id": "7926220b",
   "metadata": {},
   "source": [
    "## A brief intro to Python\n",
    "\n",
    "This resource assumes Python is already installed.\n",
    "\n",
    "This resource assumes some familiarity with Python basics such as:\n",
    "- Variables \n",
    "    - Assigning variables\n",
    "    - Basic variable types (lists, dicts, strings, booleans, tuples)\n",
    "- Control flow\n",
    "    - `for` loops\n",
    "    - `while` loops\n",
    "    - `if`/`elif`/`else` statements\n",
    "- Logical checks\n",
    "    - E.g. `==`, `>`, `<`, etc\n",
    "- Functions\n",
    "    - Defining functions\n",
    "    - Calling functions\n",
    "- Methods and attributes\n",
    "    - Calling methods and attributes\n",
    "    - (We will likely not define any methods or attributes, but it will be good to understand how to use them)\n",
    "- Comments\n",
    "\n",
    "\n",
    "\n",
    "If you need more information regarding those, see these resources:\n",
    "- [W3 Schools](https://www.w3schools.com/python/python_variables.asp)\n",
    "    - Work through Python modules"
   ]
  },
  {
   "cell_type": "markdown",
   "id": "17ce598f",
   "metadata": {},
   "source": [
    "## Handling data\n",
    "\n",
    "### Numpy\n",
    "\n",
    "### Pandas"
   ]
  },
  {
   "cell_type": "markdown",
   "id": "890b76c5",
   "metadata": {},
   "source": [
    "## Plotting\n",
    "\n",
    "### Matplotlib\n",
    "\n",
    "### Seaborn"
   ]
  },
  {
   "cell_type": "markdown",
   "id": "faf36eb2",
   "metadata": {},
   "source": [
    "## Statistical analysis\n",
    "\n",
    "### SciPy\n",
    "\n",
    "### Scikit-bio"
   ]
  },
  {
   "cell_type": "markdown",
   "id": "4e6eccb0",
   "metadata": {},
   "source": [
    "## Network analysis\n",
    "\n",
    "### Networkx"
   ]
  },
  {
   "cell_type": "code",
   "execution_count": null,
   "id": "73a95601",
   "metadata": {},
   "outputs": [],
   "source": []
  }
 ],
 "metadata": {
  "kernelspec": {
   "display_name": "Python 3 (ipykernel)",
   "language": "python",
   "name": "python3"
  },
  "language_info": {
   "codemirror_mode": {
    "name": "ipython",
    "version": 3
   },
   "file_extension": ".py",
   "mimetype": "text/x-python",
   "name": "python",
   "nbconvert_exporter": "python",
   "pygments_lexer": "ipython3",
   "version": "3.9.7"
  }
 },
 "nbformat": 4,
 "nbformat_minor": 5
}
